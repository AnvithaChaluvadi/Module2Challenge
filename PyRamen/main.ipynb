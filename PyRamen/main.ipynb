{
 "cells": [
  {
   "cell_type": "code",
   "execution_count": null,
   "metadata": {},
   "outputs": [],
   "source": [
    "# Importing data\n",
    "from pathlib import Path\n",
    "import csv"
   ]
  },
  {
   "cell_type": "code",
   "execution_count": null,
   "metadata": {},
   "outputs": [],
   "source": [
    "menu_csv = Path(\"menu_data.csv\")\n",
    "sales_csv = Path(\"sales_data.csv\")"
   ]
  },
  {
   "cell_type": "code",
   "execution_count": null,
   "metadata": {},
   "outputs": [],
   "source": [
    "# Variables \n",
    "menu = []\n",
    "sales = []\n",
    "line_num = 0"
   ]
  },
  {
   "cell_type": "code",
   "execution_count": null,
   "metadata": {},
   "outputs": [],
   "source": [
    "# Having it read the data set file of menu\n",
    "with open(menu_csv,'r') as file:\n",
    "    csv_reader = csv.reader(file,delimiter=',')\n",
    "    # Skipping the header\n",
    "    header = next(csv_reader)\n",
    "    # Moves on to each line in menu.csv\n",
    "    line_num += 1\n",
    "\n",
    "    for row in csv_reader:\n",
    "        menu.append(row)"
   ]
  },
  {
   "cell_type": "code",
   "execution_count": null,
   "metadata": {},
   "outputs": [],
   "source": [
    "# Having it read the data set file of sales\n",
    "with open(sales_csv,'r') as file:\n",
    "    csv_reader = csv.reader(file,delimiter=',')\n",
    "    # Skipping the header\n",
    "    header = next(csv_reader)\n",
    "    # Moves on to each line in menu.csv\n",
    "    line_num += 1 \n",
    "\n",
    "    for row in csv_reader:\n",
    "        sales.append(row)"
   ]
  },
  {
   "cell_type": "code",
   "execution_count": null,
   "metadata": {},
   "outputs": [],
   "source": [
    "# Initializing dictionary object to hold key-value pairs of items and metrics\n",
    "report = {}\n",
    "# Initializing a row counter variable\n",
    "row_count = 0"
   ]
  },
  {
   "cell_type": "code",
   "execution_count": null,
   "metadata": {},
   "outputs": [],
   "source": [
    "# Looped over every row in the sales list object\n",
    "for row in sales:\n",
    "    print()\n",
    "    print(row)\n",
    "    # Initializing sales data variables\n",
    "    quantity = int(row[3])\n",
    "    sales_item = row[4]\n",
    "\n",
    "    # If the item value not in the report, add it as a new entry with initialized metrics\n",
    "    if sales_item not in report.keys():\n",
    "        report[sales_item] = {\n",
    "        \"01-count\": 0,\n",
    "        \"02-revenue\": 0,\n",
    "        \"03-cogs\": 0,\n",
    "        \"04-profit\": 0,\n",
    "        }\n",
    "        \n",
    "    # For every row in our sales data, loop over the menu records to determine a match\n",
    "    for row in menu:\n",
    "     # Initializing menu data variables\n",
    "        item = row[0]\n",
    "        price = float(row[3])\n",
    "        cost = float(row[4])\n",
    "     # Calculating profit of each item in menu data \n",
    "     # Profit = Selling Price - Cost Price\n",
    "        profit = price - cost\n",
    "     # If the item value in our sales data is equal to the any of the items in the menu, then begin tracking metrics for that item\n",
    "     # Have mixed ways of printing statements due to asking for assistance during office hours from the instructor \n",
    "        if sales_item == item:\n",
    "            print(f\"Does {sales_item} equals {item}? we have a match\")\n",
    "            print(f\"   Item: {item}\")\n",
    "            print(f\"   Price: ${price}\")\n",
    "            print(f\"   Cost: ${cost}\")\n",
    "            print(f\"   Profit: ${profit}\")\n",
    "            # Cumulatively adding up the metrics for each item key\n",
    "            report[sales_item][\"01-count\"] += quantity\n",
    "            report[sales_item][\"02-revenue\"] += price * quantity\n",
    "            report[sales_item][\"03-cogs\"] += cost * quantity\n",
    "            report[sales_item][\"04-profit\"] += profit * quantity\n",
    "        else:\n",
    "            print(sales_item, \"equal\", row[0], \"! NO MATCH!\" )\n",
    "    # Increment the row counter by 1\n",
    "    row_count += 1\n",
    "\n",
    "# Printing total number of records in sales data\n",
    "print(\"The total number of records in sales data is: \", row_count) "
   ]
  },
  {
   "cell_type": "code",
   "execution_count": null,
   "metadata": {},
   "outputs": [],
   "source": [
    "# Writing out report to a text file (won't appear on the command line output)\n",
    "with open(\"PyRamen_Output.txt\", \"w\") as f:\n",
    "   for key in report:\n",
    "      f.write(f\"{key} {report[key]} \\n\")"
   ]
  }
 ],
 "metadata": {
  "kernelspec": {
   "display_name": "dev",
   "language": "python",
   "name": "python3"
  },
  "language_info": {
   "codemirror_mode": {
    "name": "ipython",
    "version": 3
   },
   "file_extension": ".py",
   "mimetype": "text/x-python",
   "name": "python",
   "nbconvert_exporter": "python",
   "pygments_lexer": "ipython3",
   "version": "3.10.13"
  }
 },
 "nbformat": 4,
 "nbformat_minor": 2
}
