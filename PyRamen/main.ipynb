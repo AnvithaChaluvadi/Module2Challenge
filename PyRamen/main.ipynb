{
 "cells": [
  {
   "cell_type": "code",
   "execution_count": null,
   "metadata": {},
   "outputs": [],
   "source": [
    "# Importing data\n",
    "from pathlib import Path\n",
    "import csv"
   ]
  },
  {
   "cell_type": "code",
   "execution_count": null,
   "metadata": {},
   "outputs": [],
   "source": [
    "menu_csv = Path(\"menu_data.csv\")\n",
    "sales_csv = Path(\"sales_data.csv\")"
   ]
  },
  {
   "cell_type": "code",
   "execution_count": null,
   "metadata": {},
   "outputs": [],
   "source": [
    "# Variables \n",
    "menu = []\n",
    "sales = []\n",
    "line_num =0"
   ]
  },
  {
   "cell_type": "code",
   "execution_count": null,
   "metadata": {},
   "outputs": [],
   "source": [
    "# Having it read the data set file of menu\n",
    "with open(menu_csv,'r') as file:\n",
    "    csv_reader = csv.reader(file,delimiter=',')\n",
    "    # Skipping the header\n",
    "    header = next(csv_reader)\n",
    "    # Moves on to each line in menu.csv\n",
    "    line_num+=1\n",
    "\n",
    "    for row in csv_reader:\n",
    "        menu.append(row)\n",
    "\n",
    "\n",
    "    "
   ]
  },
  {
   "cell_type": "code",
   "execution_count": null,
   "metadata": {},
   "outputs": [],
   "source": [
    "# Having it read the data set file of sales\n",
    "with open(sales_csv,'r') as file:\n",
    "    csv_reader = csv.reader(file,delimiter=',')\n",
    "    # Skipping the header\n",
    "    header = next(csv_reader)\n",
    "    # Moves on to each line in menu.csv\n",
    "    line_num+=1\n",
    "\n",
    "    for row in csv_reader:\n",
    "        sales.append(row)\n",
    "        \n",
    "    print(sales)"
   ]
  },
  {
   "cell_type": "code",
   "execution_count": null,
   "metadata": {},
   "outputs": [],
   "source": [
    "# Initializing dictionary object to hold key-value pairs of items and metrics\n",
    "report = {}\n",
    "# Initializing a row counter variable\n",
    "row_count = 0"
   ]
  },
  {
   "cell_type": "code",
   "execution_count": null,
   "metadata": {},
   "outputs": [],
   "source": [
    "# Looped over every row in the sales list object\n",
    "for row in sales:\n",
    "   \n",
    "    # Initializing sales data variables\n",
    "    quantity = row[3]\n",
    "    sale_item = row[4]\n",
    "\n",
    "    # If the item value not in the report, add it as a new entry with initialized metrics\n",
    "    if sale_item not in report:\n",
    "        report[sale_item] = {\n",
    "        \"01-count\": 0,\n",
    "        \"02-revenue\": 0,\n",
    "        \"03-cogs\": 0,\n",
    "        \"04-profit\": 0,\n",
    "        }\n",
    "        "
   ]
  }
 ],
 "metadata": {
  "kernelspec": {
   "display_name": "dev",
   "language": "python",
   "name": "python3"
  },
  "language_info": {
   "codemirror_mode": {
    "name": "ipython",
    "version": 3
   },
   "file_extension": ".py",
   "mimetype": "text/x-python",
   "name": "python",
   "nbconvert_exporter": "python",
   "pygments_lexer": "ipython3",
   "version": "3.10.13"
  }
 },
 "nbformat": 4,
 "nbformat_minor": 2
}
