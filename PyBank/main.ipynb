{
 "cells": [
  {
   "cell_type": "markdown",
   "metadata": {},
   "source": [
    "My task is to create a Python script that analyzes the records to calculate each of the following:\n",
    "* The total number of months included in the dataset\n",
    "* The net total amount of Profit/Losses over the entire period\n",
    "* The average of the changes in Profit/Losses over the entire period\n",
    "* The greatest increase in profits (date and amount) over the entire period\n",
    "* The greatest decrease in losses (date and amount) over the entire period\n",
    "\n",
    "Goal Output: \n",
    "<p align=\"center\">\n",
    " <img src =\"Goal.png\" width =65% height 30%=/>\n",
    " </p>"
   ]
  },
  {
   "cell_type": "code",
   "execution_count": null,
   "metadata": {},
   "outputs": [],
   "source": [
    "# importing data set\n",
    "from pathlib import Path\n",
    "import csv\n",
    "\n"
   ]
  },
  {
   "cell_type": "code",
   "execution_count": null,
   "metadata": {},
   "outputs": [],
   "source": [
    "budget_data_csv = Path('../Resources/budget_data.csv;')"
   ]
  },
  {
   "cell_type": "code",
   "execution_count": null,
   "metadata": {},
   "outputs": [],
   "source": []
  }
 ],
 "metadata": {
  "language_info": {
   "name": "python"
  }
 },
 "nbformat": 4,
 "nbformat_minor": 2
}
