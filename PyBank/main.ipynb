{
 "cells": [
  {
   "cell_type": "markdown",
   "metadata": {},
   "source": [
    "My task is to create a Python script that analyzes the records to calculate each of the following:\n",
    "* The total number of months included in the dataset\n",
    "* The net total amount of Profit/Losses over the entire period\n",
    "* The average of the changes in Profit/Losses over the entire period\n",
    "* The greatest increase in profits (date and amount) over the entire period\n",
    "* The greatest decrease in losses (date and amount) over the entire period"
   ]
  },
  {
   "cell_type": "code",
   "execution_count": null,
   "metadata": {},
   "outputs": [],
   "source": []
  }
 ],
 "metadata": {
  "language_info": {
   "name": "python"
  }
 },
 "nbformat": 4,
 "nbformat_minor": 2
}
