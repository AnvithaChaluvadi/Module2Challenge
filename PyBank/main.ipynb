{
 "cells": [
  {
   "cell_type": "markdown",
   "metadata": {},
   "source": [
    "My task is to create a Python script that analyzes the records to calculate each of the following:\n",
    "* The total number of months included in the dataset\n",
    "* The net total amount of Profit/Losses over the entire period\n",
    "* The average of the changes in Profit/Losses over the entire period\n",
    "* The greatest increase in profits (date and amount) over the entire period\n",
    "* The greatest decrease in losses (date and amount) over the entire period\n",
    "\n",
    "Goal Output (Should look similar to this): \n",
    "<p align=\"center\">\n",
    " <img src =\"Goal.png\" width =65% height 30%=/>\n",
    " </p>"
   ]
  },
  {
   "cell_type": "code",
   "execution_count": 1,
   "metadata": {},
   "outputs": [],
   "source": [
    "# Importing data set\n",
    "from pathlib import Path\n",
    "import csv"
   ]
  },
  {
   "cell_type": "code",
   "execution_count": 2,
   "metadata": {},
   "outputs": [],
   "source": [
    "budget_data_csv = Path(\"budget_data.csv\")"
   ]
  },
  {
   "cell_type": "code",
   "execution_count": 10,
   "metadata": {},
   "outputs": [],
   "source": [
    "# Creating variables\n",
    "total_months = 0\n",
    "total_list = []\n",
    "average_change = 0\n",
    "great_inc_prof = 0\n",
    "great_dec_prof = 0\n",
    "GI_date = 0\n",
    "GD_date = 0\n",
    "line_num=0\n",
    "count=0\n"
   ]
  },
  {
   "cell_type": "code",
   "execution_count": 11,
   "metadata": {},
   "outputs": [],
   "source": [
    "# Having it read the data set file\n",
    "with open(budget_data_csv, 'r') as file:\n",
    "    csv_reader = csv.reader(file,delimiter=',')\n",
    "    # Skipping the header\n",
    "    header = next(csv_reader)\n",
    "    # Moves on to next line\n",
    "    line_num +=1\n",
    "\n",
    "    # Goes to each row and collects the Profit/Losses and adds it to the total_list list\n",
    "    for row in csv_reader:\n",
    "        money = int(row[1])\n",
    "        total_list.append(money)\n",
    "\n",
    "\n"
   ]
  },
  {
   "cell_type": "code",
   "execution_count": 17,
   "metadata": {},
   "outputs": [
    {
     "name": "stdout",
     "output_type": "stream",
     "text": [
      "$ 38382578\n",
      "$ 446309.05\n"
     ]
    }
   ],
   "source": [
    "# Sum of Profit/Losses\n",
    "total = sum(total_list)\n",
    "print(\"$\",total)\n",
    "\n",
    "# Average Change of Profit/Losses\n",
    "from statistics import mean\n",
    "average_change = mean(total_list)\n",
    "print(\"$\",round(average_change,2))\n"
   ]
  }
 ],
 "metadata": {
  "kernelspec": {
   "display_name": "dev",
   "language": "python",
   "name": "python3"
  },
  "language_info": {
   "codemirror_mode": {
    "name": "ipython",
    "version": 3
   },
   "file_extension": ".py",
   "mimetype": "text/x-python",
   "name": "python",
   "nbconvert_exporter": "python",
   "pygments_lexer": "ipython3",
   "version": "3.10.13"
  }
 },
 "nbformat": 4,
 "nbformat_minor": 2
}
