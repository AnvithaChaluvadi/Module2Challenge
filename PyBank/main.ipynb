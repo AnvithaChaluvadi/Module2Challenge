{
 "cells": [
  {
   "cell_type": "markdown",
   "metadata": {},
   "source": [
    "My task is to create a Python script that analyzes the records to calculate each of the following:\n",
    "* The total number of months included in the dataset\n",
    "* The net total amount of Profit/Losses over the entire period\n",
    "* The average of the changes in Profit/Losses over the entire period\n",
    "* The greatest increase in profits (date and amount) over the entire period\n",
    "* The greatest decrease in losses (date and amount) over the entire period\n",
    "\n",
    "Goal Output (Should look similar to this): \n",
    "<p align=\"center\">\n",
    " <img src =\"Goal.png\" width =65% height 30%=/>\n",
    " </p>"
   ]
  },
  {
   "cell_type": "code",
   "execution_count": 1,
   "metadata": {},
   "outputs": [],
   "source": [
    "# Importing data set\n",
    "from pathlib import Path\n",
    "import csv"
   ]
  },
  {
   "cell_type": "code",
   "execution_count": 2,
   "metadata": {},
   "outputs": [],
   "source": [
    "budget_data_csv = Path(\"budget_data.csv\")"
   ]
  },
  {
   "cell_type": "code",
   "execution_count": 3,
   "metadata": {},
   "outputs": [],
   "source": [
    "# Variables\n",
    "total_months = []\n",
    "total_list = []\n",
    "average_change = 0\n",
    "GI_date = 0\n",
    "GD_date = 0\n",
    "line_num=0\n",
    "count=0\n",
    "total_avchanges =[]\n"
   ]
  },
  {
   "cell_type": "code",
   "execution_count": 4,
   "metadata": {},
   "outputs": [],
   "source": [
    "# Having it read the data set file\n",
    "with open(budget_data_csv, 'r') as file:\n",
    "    csv_reader = csv.reader(file,delimiter=',')\n",
    "    # Skipping the header from budget_data.csv\n",
    "    header = next(csv_reader)\n",
    "    # Moves on to each line in budget_data.csv\n",
    "    line_num +=1\n",
    "\n",
    "    # Goes to each row and collects:\n",
    "    #   - The Profit/Losses and adds it to the total_list list \n",
    "    #   - The Date and adds it to the total_months list\n",
    "    for row in csv_reader:\n",
    "        money = int(row[1])\n",
    "        date = (row[0])\n",
    "        total_list.append(money)\n",
    "        total_months.append(date)\n",
    "\n",
    "\n"
   ]
  },
  {
   "cell_type": "code",
   "execution_count": 5,
   "metadata": {},
   "outputs": [],
   "source": [
    "# Sum of Profit/Losses\n",
    "\n",
    "#(Another way of getting the sum)\n",
    "# total = sum(total_list) \n",
    "\n",
    "total = 0\n",
    "for number in total_list:\n",
    "    total += number\n",
    "\n"
   ]
  },
  {
   "cell_type": "code",
   "execution_count": 6,
   "metadata": {},
   "outputs": [],
   "source": [
    "# Taking the values in total_list and using it to calculate the first part of the average change\n",
    "\n",
    "for i in range(1, len(total_list)):\n",
    "    x = total_list[i] - total_list[i-1]\n",
    "    total_avchanges.append(int(x))\n",
    "\n",
    "# Takes the total_avchanges and gives the mean\n",
    "from statistics import mean\n",
    "average_change = mean(total_avchanges)"
   ]
  },
  {
   "cell_type": "code",
   "execution_count": 7,
   "metadata": {},
   "outputs": [],
   "source": [
    "# The total months of the data set\n",
    "\n",
    "#(Another way of getting the length of the list)\n",
    "#count_months = len(total_months)\n",
    "\n",
    "count_months = 0\n",
    "\n",
    "for values in total_list:\n",
    "    count_months +=1\n",
    "\n",
    "\n"
   ]
  },
  {
   "cell_type": "code",
   "execution_count": 8,
   "metadata": {},
   "outputs": [],
   "source": [
    "# Finds the max and min with the corresponding dates\n",
    "\n",
    "#(Another way of getting the max and min)\n",
    "#great_inc_prof = max(total_list)\n",
    "#great_dec_prof = min(total_list)\n",
    "\n",
    "# Max and Min  \n",
    "great_inc_prof = 0\n",
    "great_dec_prof = 0\n",
    "for x in total_list:\n",
    "    if (x > great_inc_prof):\n",
    "        great_inc_prof = x\n",
    "    elif (x < great_dec_prof):\n",
    "        great_dec_prof = x\n",
    "\n",
    "# Corresponding Dates\n",
    "great_inc = total_list.index(great_inc_prof)\n",
    "great_dec = total_list.index(great_dec_prof)\n",
    "GI_date = total_months[great_inc]\n",
    "GD_date = total_months[great_dec]\n",
    "        \n"
   ]
  },
  {
   "cell_type": "code",
   "execution_count": 9,
   "metadata": {},
   "outputs": [
    {
     "name": "stdout",
     "output_type": "stream",
     "text": [
      "Financial Analysis\n",
      "--------------------------------\n",
      "Total Months: 86\n",
      "Total: $ 38382578\n",
      "Average Change: $ -2315.12\n",
      "Greatest Increase in Profit: Feb-2012 ($ 1170593 )\n",
      "Greatest Decrease in Profit: Sep-2013 ($ -1196225 )\n"
     ]
    }
   ],
   "source": [
    "#Printing Statements\n",
    "\n",
    "print(f\"Financial Analysis\")\n",
    "print(f\"--------------------------------\")\n",
    "print(f\"Total Months:\", count_months)\n",
    "print(f\"Total: $\", total)\n",
    "print(f\"Average Change: $\", round(average_change,2))\n",
    "print(f\"Greatest Increase in Profit:\", GI_date, \"($\", great_inc_prof,\")\")\n",
    "print(f\"Greatest Decrease in Profit:\", GD_date, \"($\", great_dec_prof,\")\")"
   ]
  },
  {
   "cell_type": "code",
   "execution_count": 15,
   "metadata": {},
   "outputs": [
    {
     "ename": "TypeError",
     "evalue": "_IOBase.writelines() takes exactly one argument (2 given)",
     "output_type": "error",
     "traceback": [
      "\u001b[0;31m---------------------------------------------------------------------------\u001b[0m",
      "\u001b[0;31mTypeError\u001b[0m                                 Traceback (most recent call last)",
      "\u001b[1;32m/Users/anvithachaluvadi/Documents/GW_FINTECH/HW/python-challenge/PyBank/main.ipynb Cell 11\u001b[0m line \u001b[0;36m2\n\u001b[1;32m      <a href='vscode-notebook-cell:/Users/anvithachaluvadi/Documents/GW_FINTECH/HW/python-challenge/PyBank/main.ipynb#X23sZmlsZQ%3D%3D?line=0'>1</a>\u001b[0m \u001b[39mwith\u001b[39;00m \u001b[39mopen\u001b[39m(\u001b[39m'\u001b[39m\u001b[39mFinancial_Analysis.txt\u001b[39m\u001b[39m'\u001b[39m, \u001b[39m'\u001b[39m\u001b[39mw\u001b[39m\u001b[39m'\u001b[39m) \u001b[39mas\u001b[39;00m file:\n\u001b[0;32m----> <a href='vscode-notebook-cell:/Users/anvithachaluvadi/Documents/GW_FINTECH/HW/python-challenge/PyBank/main.ipynb#X23sZmlsZQ%3D%3D?line=1'>2</a>\u001b[0m     file\u001b[39m.\u001b[39;49mwritelines(\u001b[39mf\u001b[39;49m\u001b[39m'\u001b[39;49m\u001b[39mFinancial Analysis\u001b[39;49m\u001b[39m'\u001b[39;49m, \u001b[39m'\u001b[39;49m\u001b[39m\\n\u001b[39;49;00m\u001b[39m'\u001b[39;49m)\n\u001b[1;32m      <a href='vscode-notebook-cell:/Users/anvithachaluvadi/Documents/GW_FINTECH/HW/python-challenge/PyBank/main.ipynb#X23sZmlsZQ%3D%3D?line=2'>3</a>\u001b[0m     file\u001b[39m.\u001b[39mwritelines(\u001b[39mf\u001b[39m\u001b[39m'\u001b[39m\u001b[39m--------------------------------\u001b[39m\u001b[39m'\u001b[39m, \u001b[39m'\u001b[39m\u001b[39m\\n\u001b[39;00m\u001b[39m'\u001b[39m)\n\u001b[1;32m      <a href='vscode-notebook-cell:/Users/anvithachaluvadi/Documents/GW_FINTECH/HW/python-challenge/PyBank/main.ipynb#X23sZmlsZQ%3D%3D?line=3'>4</a>\u001b[0m     file\u001b[39m.\u001b[39mwritelines(\u001b[39mf\u001b[39m\u001b[39m'\u001b[39m\u001b[39mTotal Months:\u001b[39m\u001b[39m'\u001b[39m, count_months, \u001b[39m'\u001b[39m\u001b[39m\\n\u001b[39;00m\u001b[39m'\u001b[39m)\n",
      "\u001b[0;31mTypeError\u001b[0m: _IOBase.writelines() takes exactly one argument (2 given)"
     ]
    }
   ],
   "source": [
    "with open('Financial_Analysis.txt', 'w') as file:\n",
    "    file.writelines(f'Financial Analysis', '\\n')\n",
    "    file.writelines(f'--------------------------------', '\\n')\n",
    "    file.writelines(f'Total Months:', count_months, '\\n')\n",
    "    file.writelines(f'Total: $', total, '\\n')\n",
    "    file.writelines(f'Average Change: $', round(average_change,2), '\\n')\n",
    "    file.writelines(f'Greatest Increase in Profit:', GI_date, '($', great_inc_prof,')','\\n')\n",
    "    file.writelines(f'Greatest Decrease in Profit:', GD_date, '($', great_dec_prof,')', '\\n')\n",
    "    file.close()\n"
   ]
  }
 ],
 "metadata": {
  "kernelspec": {
   "display_name": "dev",
   "language": "python",
   "name": "python3"
  },
  "language_info": {
   "codemirror_mode": {
    "name": "ipython",
    "version": 3
   },
   "file_extension": ".py",
   "mimetype": "text/x-python",
   "name": "python",
   "nbconvert_exporter": "python",
   "pygments_lexer": "ipython3",
   "version": "3.10.13"
  }
 },
 "nbformat": 4,
 "nbformat_minor": 2
}
