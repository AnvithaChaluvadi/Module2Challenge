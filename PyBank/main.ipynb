{
 "cells": [
  {
   "cell_type": "markdown",
   "metadata": {},
   "source": [
    "My task is to create a Python script that analyzes the records to calculate each of the following:\n",
    "* The total number of months included in the dataset\n",
    "* The net total amount of Profit/Losses over the entire period\n",
    "* The average of the changes in Profit/Losses over the entire period\n",
    "* The greatest increase in profits (date and amount) over the entire period\n",
    "* The greatest decrease in losses (date and amount) over the entire period\n",
    "\n",
    "Goal Output (Should look similar to this): \n",
    "<p align=\"center\">\n",
    " <img src =\"Goal.png\" width =65% height 30%=/>\n",
    " </p>"
   ]
  },
  {
   "cell_type": "code",
   "execution_count": null,
   "metadata": {},
   "outputs": [],
   "source": [
    "# Importing data set\n",
    "from pathlib import Path\n",
    "import csv"
   ]
  },
  {
   "cell_type": "code",
   "execution_count": null,
   "metadata": {},
   "outputs": [],
   "source": [
    "budget_data_csv = Path(\"budget_data.csv\")"
   ]
  },
  {
   "cell_type": "code",
   "execution_count": null,
   "metadata": {},
   "outputs": [],
   "source": [
    "# Variables\n",
    "total_months = []\n",
    "total_list = []\n",
    "average_change = 0\n",
    "GI_date = 0\n",
    "GD_date = 0\n",
    "line_num=0\n",
    "count=0\n",
    "total_avchanges =[]\n"
   ]
  },
  {
   "cell_type": "code",
   "execution_count": null,
   "metadata": {},
   "outputs": [],
   "source": [
    "# Having it read the data set file\n",
    "with open(budget_data_csv, 'r') as file:\n",
    "    csv_reader = csv.reader(file,delimiter=',')\n",
    "    # Skipping the header from budget_data.csv\n",
    "    header = next(csv_reader)\n",
    "    # Moves on to each line in budget_data.csv\n",
    "    line_num +=1\n",
    "\n",
    "    # Goes to each row and collects:\n",
    "    #   - The Profit/Losses and adds it to the total_list list \n",
    "    #   - The Date and adds it to the total_months list\n",
    "    for row in csv_reader:\n",
    "        money = int(row[1])\n",
    "        date = (row[0])\n",
    "        total_list.append(money)\n",
    "        total_months.append(date)\n",
    "\n",
    "\n"
   ]
  },
  {
   "cell_type": "code",
   "execution_count": null,
   "metadata": {},
   "outputs": [],
   "source": [
    "# Sum of Profit/Losses\n",
    "total = 0\n",
    "for number in total_list:\n",
    "    total += number\n",
    "\n",
    "# Another way of getting the sum:\n",
    "# -> total = sum(total_list) "
   ]
  },
  {
   "cell_type": "code",
   "execution_count": null,
   "metadata": {},
   "outputs": [],
   "source": [
    "# Taking the values in total_list and using it to calculate the first part of the average change\n",
    "for i in range(1, len(total_list)):\n",
    "    x = total_list[i] - total_list[i-1]\n",
    "    total_avchanges.append(int(x))\n",
    "\n",
    "# Takes the total_avchanges and gives the mean\n",
    "from statistics import mean\n",
    "average_change = mean(total_avchanges)"
   ]
  },
  {
   "cell_type": "code",
   "execution_count": null,
   "metadata": {},
   "outputs": [],
   "source": [
    "# The total months of the data set\n",
    "count_months = 0\n",
    "\n",
    "for values in total_list:\n",
    "    count_months +=1\n",
    "\n",
    "# Another way of getting the length of the list:\n",
    "# -> count_months = len(total_months)"
   ]
  },
  {
   "cell_type": "code",
   "execution_count": null,
   "metadata": {},
   "outputs": [],
   "source": [
    "# Finds the max and min with the corresponding dates\n",
    "# Max and Min  \n",
    "great_inc_prof = 0\n",
    "great_dec_prof = 0\n",
    "for x in total_list:\n",
    "    if (x > great_inc_prof):\n",
    "        great_inc_prof = x\n",
    "    elif (x < great_dec_prof):\n",
    "        great_dec_prof = x\n",
    "\n",
    "# Corresponding Dates\n",
    "great_inc = total_list.index(great_inc_prof)\n",
    "great_dec = total_list.index(great_dec_prof)\n",
    "GI_date = total_months[great_inc]\n",
    "GD_date = total_months[great_dec]\n",
    "\n",
    "# Another way of getting the max and min:\n",
    "# -> great_inc_prof = max(total_list)\n",
    "# -> great_dec_prof = min(total_list)\n"
   ]
  },
  {
   "cell_type": "code",
   "execution_count": null,
   "metadata": {},
   "outputs": [],
   "source": [
    "# Printing Statements\n",
    "print(f\"Financial Analysis\")\n",
    "print(f\"--------------------------------\")\n",
    "print(f\"Total Months:\", count_months)\n",
    "print(f\"Total: $\", total)\n",
    "print(f\"Average Change: $\", round(average_change,2))\n",
    "print(f\"Greatest Increase in Profit:\", GI_date, \"($\", great_inc_prof,\")\")\n",
    "print(f\"Greatest Decrease in Profit:\", GD_date, \"($\", great_dec_prof,\")\")"
   ]
  },
  {
   "cell_type": "code",
   "execution_count": 19,
   "metadata": {},
   "outputs": [],
   "source": [
    "# Prints the analysis to the terminal and exports a text file with the results\n",
    "with open(\"Financial_Analysis.txt\", \"a\") as f:\n",
    "    print(f\"Financial Analysis\", file=f)\n",
    "    print(f\"--------------------------------\", file=f)\n",
    "    print(f\"Total Months:\", count_months,file=f)\n",
    "    print(f\"Total: $\", total,file=f)\n",
    "    print(f\"Average Change: $\", round(average_change,2),file=f)\n",
    "    print(f\"Greatest Increase in Profit:\", GI_date, \"($\", great_inc_prof,\")\",file=f)\n",
    "    print(f\"Greatest Decrease in Profit:\", GD_date, \"($\", great_dec_prof,\")\",file=f)\n"
   ]
  }
 ],
 "metadata": {
  "kernelspec": {
   "display_name": "dev",
   "language": "python",
   "name": "python3"
  },
  "language_info": {
   "codemirror_mode": {
    "name": "ipython",
    "version": 3
   },
   "file_extension": ".py",
   "mimetype": "text/x-python",
   "name": "python",
   "nbconvert_exporter": "python",
   "pygments_lexer": "ipython3",
   "version": "3.10.13"
  }
 },
 "nbformat": 4,
 "nbformat_minor": 2
}
